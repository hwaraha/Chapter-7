{
  "nbformat": 4,
  "nbformat_minor": 0,
  "metadata": {
    "colab": {
      "provenance": [],
      "authorship_tag": "ABX9TyPmL1hHb27mFEPnf0gRXVi3",
      "include_colab_link": true
    },
    "kernelspec": {
      "name": "python3",
      "display_name": "Python 3"
    },
    "language_info": {
      "name": "python"
    }
  },
  "cells": [
    {
      "cell_type": "markdown",
      "metadata": {
        "id": "view-in-github",
        "colab_type": "text"
      },
      "source": [
        "<a href=\"https://colab.research.google.com/github/hwaraha/Chapter-7/blob/main/TutorQuestionsChapter7.ipynb\" target=\"_parent\"><img src=\"https://colab.research.google.com/assets/colab-badge.svg\" alt=\"Open In Colab\"/></a>"
      ]
    },
    {
      "cell_type": "code",
      "execution_count": 1,
      "metadata": {
        "colab": {
          "base_uri": "https://localhost:8080/"
        },
        "id": "peigZGTrql2A",
        "outputId": "a1e8857c-a271-49cc-efa5-5c309313d649"
      },
      "outputs": [
        {
          "output_type": "stream",
          "name": "stdout",
          "text": [
            "로미오의 주사위 숫자는 2 입니다.\n",
            "줄리엣의 주사위 숫자는 3 입니다.\n",
            "줄리엣 이겼습니다\n"
          ]
        }
      ],
      "source": [
        "# 1.\n",
        "import random as rd\n",
        "juliet = rd.randrange(1, 6)\n",
        "romeo = rd.randrange(1, 6)\n",
        "print(\"로미오의 주사위 숫자는 {} 입니다.\".format(romeo))\n",
        "print(\"줄리엣의 주사위 숫자는 {} 입니다.\".format(juliet))\n",
        "\n",
        "if juliet > romeo:\n",
        "    print(\"줄리엣 이겼습니다\")\n",
        "elif romeo > juliet:\n",
        "    print(\"로미오 이겼습니다\")\n",
        "else:\n",
        "    print(\"무승부 입니다\")"
      ]
    },
    {
      "cell_type": "code",
      "source": [
        "# 6.\n",
        "import datetime as dt\n",
        "today = dt.datetime.now()\n",
        "print('오늘은 {}년 {}월 {}일입니다'.format(today.year, today.month, today.day))\n",
        "dating_day = dt.datetime(2019, 2, 24)\n",
        "print('춘향이와 몽룡이의 연애 시작일 : {}년 {}월 {}일'.format(dating_day.year, dating_day.month, dating_day.day))\n",
        "dating_days = today - dating_day\n",
        "print('연애 시작일로부터 경과한 날짜: {}일'.format(dating_days.days))\n",
        "hundred = dt.timedelta(days = 99)\n",
        "plus100day = dt.datetime.now() + hundred\n",
        "print(\"100일 기념일은 : {}년 {}월 {}일\".format(plus100day.year, plus100day.month, plus100day.day))\n",
        "two_hundred = dt.timedelta(days = 199)\n",
        "plus200day = dt.datetime.now() + two_hundred\n",
        "print(\"200일 기념일은 : {}년 {}월 {}일\".format(plus200day.year, plus200day.month, plus200day.day))\n",
        "five_hundred = dt.timedelta(days = 499)\n",
        "plus500day = dt.datetime.now() + five_hundred\n",
        "print(\"500일 기념일은 : {}년 {}월 {}일\".format(plus500day.year, plus500day.month, plus500day.day))\n",
        "thousand = dt.timedelta(days = 999)\n",
        "plus1000day = dt.datetime.now() + thousand\n",
        "print(\"1000일 기념일은 : {}년 {}월 {}일\".format(plus1000day.year, plus1000day.month, plus1000day.day))\n"
      ],
      "metadata": {
        "colab": {
          "base_uri": "https://localhost:8080/"
        },
        "id": "pbkhxCsDquQv",
        "outputId": "75a36695-9f9d-473e-df2a-242c36ce14aa"
      },
      "execution_count": 2,
      "outputs": [
        {
          "output_type": "stream",
          "name": "stdout",
          "text": [
            "오늘은 2022년 10월 17일입니다\n",
            "춘향이와 몽룡이의 연애 시작일 : 2019년 2월 24일\n",
            "연애 시작일로부터 경과한 날짜: 1331일\n",
            "100일 기념일은 : 2023년 1월 24일\n",
            "200일 기념일은 : 2023년 5월 4일\n",
            "500일 기념일은 : 2024년 2월 28일\n",
            "1000일 기념일은 : 2025년 7월 12일\n"
          ]
        }
      ]
    },
    {
      "cell_type": "code",
      "source": [
        "# 7.\n",
        "import time\n",
        "start_time = time.time()\n",
        "a = list(range(1, 1000001))\n",
        "sum(a)\n",
        "\n",
        "end_time = time.time()\n",
        "gap = end_time - start_time\n",
        "print('1에서 1,000,000까지의 합을 100번 반복해서 구하는 시간: {:4.4f}초'.format(gap))\n"
      ],
      "metadata": {
        "colab": {
          "base_uri": "https://localhost:8080/"
        },
        "id": "k17n0zPSq3HI",
        "outputId": "dd446431-d705-4444-8d14-99b2974bb1ce"
      },
      "execution_count": 3,
      "outputs": [
        {
          "output_type": "stream",
          "name": "stdout",
          "text": [
            "1에서 1,000,000까지의 합을 100번 반복해서 구하는 시간: 0.0483초\n"
          ]
        }
      ]
    },
    {
      "cell_type": "code",
      "source": [
        "# 8.\n",
        "# (1)\n",
        "import time\n",
        "start_time = time.time()\n",
        "def factorial(n):\n",
        "    res = 1\n",
        "\n",
        "    for i in range(2, n + 1):\n",
        "        res *= i\n",
        "    return res\n",
        "\n",
        "\n",
        "num = 1000\n",
        "factorial(num)\n",
        "\n",
        "end_time = time.time()\n",
        "gap = end_time - start_time\n",
        "print('1000!을 100번 반복해서 구하는 시간: {:4.4f}초'.format(gap))"
      ],
      "metadata": {
        "colab": {
          "base_uri": "https://localhost:8080/"
        },
        "id": "_QPZyvOdq6-G",
        "outputId": "335c074e-b446-4a72-da8d-f049144e1cf2"
      },
      "execution_count": 4,
      "outputs": [
        {
          "output_type": "stream",
          "name": "stdout",
          "text": [
            "1000!을 100번 반복해서 구하는 시간: 0.0004초\n"
          ]
        }
      ]
    },
    {
      "cell_type": "code",
      "source": [
        "# 8.\n",
        "# (2)\n",
        "import time\n",
        "start_time = time.time()\n",
        "sum = 0\n",
        "for i in range(1, 1001):\n",
        "    if i % 2 == 1:\n",
        "        sum += i\n",
        "print(\"1에서 1000까지 홀수의 세제곱 더하기 결과: \", sum)\n",
        "\n",
        "end_time = time.time()\n",
        "gap = end_time - start_time\n",
        "print('1에서 1000까지 홀수의 세제곱 더하기를 100번 반복하는 시간: {:4.4f}초'.format(gap))\n"
      ],
      "metadata": {
        "colab": {
          "base_uri": "https://localhost:8080/"
        },
        "id": "Du9H5AEeq_fS",
        "outputId": "5c2537c9-1296-47c5-dcc2-2f62ada6bdb2"
      },
      "execution_count": 5,
      "outputs": [
        {
          "output_type": "stream",
          "name": "stdout",
          "text": [
            "1에서 1000까지 홀수의 세제곱 더하기 결과:  250000\n",
            "1에서 1000까지 홀수의 세제곱 더하기를 100번 반복하는 시간: 0.0051초\n"
          ]
        }
      ]
    },
    {
      "cell_type": "code",
      "source": [
        "# 9.\n",
        "def pseudo_rand(x):\n",
        "    new_x = (1000000 * x + 1) % ( 2 ** 31 )\n",
        "    return new_x\n",
        "x = 12224\n",
        "for _ in range(10):\n",
        "    x = pseudo_rand(x)\n",
        "    print(x)"
      ],
      "metadata": {
        "colab": {
          "base_uri": "https://localhost:8080/"
        },
        "id": "Gi_I9SNorEPH",
        "outputId": "efdb5972-2f89-4c2a-d00a-e104545ebe33"
      },
      "execution_count": 6,
      "outputs": [
        {
          "output_type": "stream",
          "name": "stdout",
          "text": [
            "1486581761\n",
            "1238057537\n",
            "1001673281\n",
            "1008226881\n",
            "488133185\n",
            "1561875009\n",
            "1561875009\n",
            "1561875009\n",
            "1561875009\n",
            "1561875009\n"
          ]
        }
      ]
    }
  ]
}